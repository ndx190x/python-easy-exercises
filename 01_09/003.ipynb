{
 "cells": [
  {
   "cell_type": "markdown",
   "metadata": {},
   "source": [
    "**Bài 003:**\n",
    "\n",
    "Tính tổng của các chữ số của một số nguyên.\n",
    "\n",
    "**Ví dụ:**               \n",
    "\n",
    "Input:               1234\n",
    "\n",
    "Output:           10"
   ]
  },
  {
   "cell_type": "code",
   "execution_count": 15,
   "metadata": {},
   "outputs": [],
   "source": [
    "def sum_of_number(number):\n",
    "    total = 0\n",
    "    while number:\n",
    "        end_number = number % 10\n",
    "        total += end_number\n",
    "        number = int((number - end_number)/10)\n",
    "    return total \n",
    "\n",
    "\n",
    "def calc_sum_of_number(number):\n",
    "    print(\"Tổng các chữ số của số {} là {}\".format(number, sum_of_number(number)))\n"
   ]
  },
  {
   "cell_type": "code",
   "execution_count": 16,
   "metadata": {},
   "outputs": [
    {
     "name": "stdout",
     "output_type": "stream",
     "text": [
      "Tổng các chữ số của số 1234 là 10\n"
     ]
    }
   ],
   "source": [
    "calc_sum_of_number(1234)"
   ]
  },
  {
   "cell_type": "code",
   "execution_count": 17,
   "metadata": {},
   "outputs": [
    {
     "name": "stdout",
     "output_type": "stream",
     "text": [
      "Tổng các chữ số của số 234567 là 27\n"
     ]
    }
   ],
   "source": [
    "calc_sum_of_number(234567)"
   ]
  },
  {
   "cell_type": "code",
   "execution_count": 18,
   "metadata": {},
   "outputs": [
    {
     "name": "stdout",
     "output_type": "stream",
     "text": [
      "Tổng các chữ số của số 123789998776 là 76\n"
     ]
    }
   ],
   "source": [
    "calc_sum_of_number(123789998776)"
   ]
  },
  {
   "cell_type": "code",
   "execution_count": null,
   "metadata": {},
   "outputs": [],
   "source": []
  }
 ],
 "metadata": {
  "kernelspec": {
   "display_name": "Python 3",
   "language": "python",
   "name": "python3"
  },
  "language_info": {
   "codemirror_mode": {
    "name": "ipython",
    "version": 3
   },
   "file_extension": ".py",
   "mimetype": "text/x-python",
   "name": "python",
   "nbconvert_exporter": "python",
   "pygments_lexer": "ipython3",
   "version": "3.7.0"
  }
 },
 "nbformat": 4,
 "nbformat_minor": 2
}
