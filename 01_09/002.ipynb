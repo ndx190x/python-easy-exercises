{
 "cells": [
  {
   "cell_type": "markdown",
   "metadata": {},
   "source": [
    "**Bài 002**:\n",
    "\n",
    "\n",
    "Viết hàm tính tiền đi taxi từ số km cho trước, biết:\n",
    "\n",
    "Số km ≤ 1 giá 15000đ\n",
    "\n",
    "1 < số km ≤ 5 giá 13500đ\n",
    "\n",
    "Số km > 5 giá 11000đ\n",
    "\n",
    "Nếu số km > 120 km sẽ được giảm 10% trên tổng số tiền.\n",
    "\n",
    "\n",
    "\n",
    "\n"
   ]
  },
  {
   "cell_type": "code",
   "execution_count": 11,
   "metadata": {},
   "outputs": [],
   "source": [
    "PAY_1 = 15000\n",
    "PAY_2 = 13500\n",
    "PAY_3 = 11000\n",
    "DISCOUNT = 90/100\n",
    "\n",
    "def calc_pay_money(distance):\n",
    "    if distance < 2:  #  distance <= 1\n",
    "        return PAY_1\n",
    "    elif distance < 6:  #  2 <= distance <= 5:\n",
    "        return PAY_1 + (distance - 1) * PAY_2\n",
    "    elif distance < 121:  #  6 <= distance <= 120\n",
    "        return PAY_1 + 4 * PAY_2 + (distance - 5) * PAY_3\n",
    "    else:   # distance > 120\n",
    "        return (PAY_1 + 4 * PAY_2 + (distance - 5) * PAY_3) * DISCOUNT\n",
    "\n",
    "def pay_money(distance):\n",
    "    money = calc_pay_money(distance)\n",
    "    print(\"Số tiền phải trả là {:,} vnd\".format(money))"
   ]
  },
  {
   "cell_type": "code",
   "execution_count": 7,
   "metadata": {},
   "outputs": [
    {
     "name": "stdout",
     "output_type": "stream",
     "text": [
      "Số tiền phải trả là 15,000 vnd\n"
     ]
    }
   ],
   "source": [
    "pay_money(1)"
   ]
  },
  {
   "cell_type": "code",
   "execution_count": 8,
   "metadata": {},
   "outputs": [
    {
     "name": "stdout",
     "output_type": "stream",
     "text": [
      "Số tiền phải trả là 69,000 vnd\n"
     ]
    }
   ],
   "source": [
    "pay_money(5)"
   ]
  },
  {
   "cell_type": "code",
   "execution_count": 9,
   "metadata": {},
   "outputs": [
    {
     "name": "stdout",
     "output_type": "stream",
     "text": [
      "Số tiền phải trả là 1,114,000 vnd\n"
     ]
    }
   ],
   "source": [
    "pay_money(100)"
   ]
  },
  {
   "cell_type": "code",
   "execution_count": 10,
   "metadata": {},
   "outputs": [
    {
     "name": "stdout",
     "output_type": "stream",
     "text": [
      "Số tiền phải trả là 1,299,600.0 vnd\n"
     ]
    }
   ],
   "source": [
    "pay_money(130)"
   ]
  },
  {
   "cell_type": "code",
   "execution_count": 13,
   "metadata": {},
   "outputs": [
    {
     "name": "stdout",
     "output_type": "stream",
     "text": [
      "Số tiền phải trả là 1,334,000 vnd\n"
     ]
    }
   ],
   "source": [
    "pay_money(120)"
   ]
  },
  {
   "cell_type": "code",
   "execution_count": 14,
   "metadata": {},
   "outputs": [
    {
     "name": "stdout",
     "output_type": "stream",
     "text": [
      "Số tiền phải trả là 1,210,500.0 vnd\n"
     ]
    }
   ],
   "source": [
    "pay_money(121)"
   ]
  },
  {
   "cell_type": "code",
   "execution_count": null,
   "metadata": {},
   "outputs": [],
   "source": []
  }
 ],
 "metadata": {
  "kernelspec": {
   "display_name": "Python 3",
   "language": "python",
   "name": "python3"
  },
  "language_info": {
   "codemirror_mode": {
    "name": "ipython",
    "version": 3
   },
   "file_extension": ".py",
   "mimetype": "text/x-python",
   "name": "python",
   "nbconvert_exporter": "python",
   "pygments_lexer": "ipython3",
   "version": "3.7.0"
  }
 },
 "nbformat": 4,
 "nbformat_minor": 2
}
