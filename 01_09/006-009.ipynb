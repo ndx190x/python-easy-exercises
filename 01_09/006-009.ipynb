{
 "cells": [
  {
   "cell_type": "markdown",
   "metadata": {},
   "source": [
    "# Bài 006. Factorial of Number\n",
    "\n",
    "Cho số n, tính giai thừa của số nguyên dương n.\n",
    "\n",
    "Ví dụ:\n",
    "\n",
    "Input:                 5\n",
    "\n",
    "Output:             5! = 120\n"
   ]
  },
  {
   "cell_type": "markdown",
   "metadata": {},
   "source": [
    "**Định nghĩa**\n",
    "Trong toán học, giai thừa là một toán tử một ngôi trên tập hợp các số tự nhiên. Cho n là một số tự nhiên dương, \"n giai thừa\", kí hiệu n! là tích của n số tự nhiên dương đầu tiên.\n",
    "\n",
    "\n",
    "n! = n x (n - 1) x (n-2) .... 4 x 3 x 2 x 1\n",
    "\n",
    "\n",
    "Đặc biệt, với n = 0, người ta quy ước 0! = 1.\n",
    "\n",
    "Ví dụ: 5! = 5 * 4 * 3 * 2 * 1 = 120\n",
    "\n"
   ]
  },
  {
   "cell_type": "code",
   "execution_count": 4,
   "metadata": {},
   "outputs": [],
   "source": [
    "def find_factorial_by_loop(number):\n",
    "    if number == 0 or number == 1:\n",
    "        return 1\n",
    "    factoria_number = 1\n",
    "    for index in range(number,1,-1):\n",
    "        factoria_number *= index\n",
    "    return factoria_number\n"
   ]
  },
  {
   "cell_type": "code",
   "execution_count": 5,
   "metadata": {},
   "outputs": [
    {
     "data": {
      "text/plain": [
       "120"
      ]
     },
     "execution_count": 5,
     "metadata": {},
     "output_type": "execute_result"
    }
   ],
   "source": [
    "find_factorial_by_loop(5)"
   ]
  },
  {
   "cell_type": "code",
   "execution_count": 7,
   "metadata": {},
   "outputs": [
    {
     "data": {
      "text/plain": [
       "24"
      ]
     },
     "execution_count": 7,
     "metadata": {},
     "output_type": "execute_result"
    }
   ],
   "source": [
    "find_factorial_by_loop(4)"
   ]
  },
  {
   "cell_type": "code",
   "execution_count": 6,
   "metadata": {},
   "outputs": [],
   "source": [
    "def find_factorial_by_recusion(number):\n",
    "    if number == 0 or number == 1:\n",
    "        return 1\n",
    "    else:\n",
    "        return number * find_factorial_by_recusion(number - 1)"
   ]
  },
  {
   "cell_type": "code",
   "execution_count": 8,
   "metadata": {},
   "outputs": [
    {
     "data": {
      "text/plain": [
       "120"
      ]
     },
     "execution_count": 8,
     "metadata": {},
     "output_type": "execute_result"
    }
   ],
   "source": [
    "find_factorial_by_recusion(5)"
   ]
  },
  {
   "cell_type": "code",
   "execution_count": 9,
   "metadata": {},
   "outputs": [
    {
     "data": {
      "text/plain": [
       "24"
      ]
     },
     "execution_count": 9,
     "metadata": {},
     "output_type": "execute_result"
    }
   ],
   "source": [
    "find_factorial_by_recusion(4)"
   ]
  },
  {
   "cell_type": "code",
   "execution_count": null,
   "metadata": {},
   "outputs": [],
   "source": []
  },
  {
   "cell_type": "markdown",
   "metadata": {},
   "source": [
    "# Bài 007. Kiểm tra số tự mãn (Narcissistic Number)\n",
    "\n",
    "Cho số nguyên dương n, kiểm tra n có là số tự mãn (Narcissistic Number) không.\n",
    "\n",
    "**Ví dụ:**\n",
    "\n",
    "Input:                                153\n",
    "\n",
    "Output:            153 là số tự mãn\n",
    "\n",
    "**Định nghĩa:**\n",
    "\n",
    "Số tự mãn (Narcissistic Number) là một số mà có tổng của từng chữ số mũ n (n >= 2) bằng chính nó.\n",
    "\n",
    "Ví dụ:\n",
    "\n",
    "Số tự mãn 3 chữ số: 153 = (1 * 1 * 1) + (5 * 5 * 5) + (3 * 3 * 3).\n",
    "\n",
    "Số tự mãn 4 chữ số: 8208 = (8 * 8 * 8 * 8) + (2 * 2 * 2 * 2) + (0 * 0 * 0 * 0) + (8 * 8 * 8 * 8)\n",
    "\n"
   ]
  },
  {
   "cell_type": "code",
   "execution_count": 12,
   "metadata": {},
   "outputs": [],
   "source": [
    "def count_number(number):\n",
    "    count = 0\n",
    "    while number != 0:\n",
    "        count += 1\n",
    "        number = number // 10\n",
    "    return count\n",
    "\n",
    "def find_sum_of_power(number):\n",
    "    count = count_number(number)\n",
    "    total = 0\n",
    "    while number != 0:\n",
    "        sub_number = number % 10\n",
    "        number = number // 10\n",
    "        total += sub_number ** count\n",
    "    return total\n",
    "\n",
    "def is_narcissistic_number(number):\n",
    "    if number == find_sum_of_power(number):\n",
    "        print(\"{} is a narcissistic number\".format(number))\n",
    "    else:\n",
    "        print(\"{} is not a narcissistic number\".format(number))\n",
    "        "
   ]
  },
  {
   "cell_type": "code",
   "execution_count": 13,
   "metadata": {},
   "outputs": [
    {
     "name": "stdout",
     "output_type": "stream",
     "text": [
      "153 is a narcissistic number\n"
     ]
    }
   ],
   "source": [
    "is_narcissistic_number(153)"
   ]
  },
  {
   "cell_type": "code",
   "execution_count": 14,
   "metadata": {},
   "outputs": [
    {
     "name": "stdout",
     "output_type": "stream",
     "text": [
      "8208 is a narcissistic number\n"
     ]
    }
   ],
   "source": [
    "is_narcissistic_number(8208)"
   ]
  },
  {
   "cell_type": "code",
   "execution_count": 15,
   "metadata": {},
   "outputs": [
    {
     "name": "stdout",
     "output_type": "stream",
     "text": [
      "152 is not a narcissistic number\n"
     ]
    }
   ],
   "source": [
    "is_narcissistic_number(152)"
   ]
  },
  {
   "cell_type": "code",
   "execution_count": 16,
   "metadata": {},
   "outputs": [
    {
     "name": "stdout",
     "output_type": "stream",
     "text": [
      "2000 is not a narcissistic number\n"
     ]
    }
   ],
   "source": [
    "is_narcissistic_number(2000)"
   ]
  },
  {
   "cell_type": "markdown",
   "metadata": {},
   "source": [
    "# Bài 008. Kiểm tra năm nhuận (Leap year)\n",
    "\n",
    "Cho số nguyên dương n, kiểm tra n có là năm nhuận hay không. \n",
    "\n",
    "**Ví dụ:**\n",
    "\n",
    "Input: 2000\n",
    "\n",
    "Output: 2000 is a leap year \n",
    "\n",
    "\n",
    "Input: 2001\n",
    "\n",
    "Output: 2001 is not a leap year \n",
    "\n",
    "**Định nghĩa**:\n",
    "\n",
    "Năm nhuận là:\n",
    "\n",
    "- Năm chia hết cho 4 nhưng không chia hết cho 100.\n",
    "- Hoặc năm chia hết cho 400.\n",
    "\n",
    "Ví dụ: 1800 không phải năm nhuận, 2000 là năm nhuận.\n",
    "\n"
   ]
  },
  {
   "cell_type": "code",
   "execution_count": 26,
   "metadata": {},
   "outputs": [],
   "source": [
    "def is_leap_year(year):\n",
    "    if (0 == year % 4 and 0 != year % 100) or (0 == year % 400):\n",
    "        return True\n",
    "    else:\n",
    "        return False\n",
    "\n",
    "def check_leap_year(year):\n",
    "    if(is_leap_year(year)):\n",
    "        print(\"{} is a leap year\".format(year))\n",
    "    else:\n",
    "        print(\"{} is not a leap year\".format(year))"
   ]
  },
  {
   "cell_type": "code",
   "execution_count": 27,
   "metadata": {},
   "outputs": [
    {
     "name": "stdout",
     "output_type": "stream",
     "text": [
      "2000 is a leap year\n"
     ]
    }
   ],
   "source": [
    "check_leap_year(2000)"
   ]
  },
  {
   "cell_type": "code",
   "execution_count": 28,
   "metadata": {},
   "outputs": [
    {
     "name": "stdout",
     "output_type": "stream",
     "text": [
      "1800 is not a leap year\n"
     ]
    }
   ],
   "source": [
    "check_leap_year(1800)"
   ]
  },
  {
   "cell_type": "code",
   "execution_count": 29,
   "metadata": {},
   "outputs": [
    {
     "name": "stdout",
     "output_type": "stream",
     "text": [
      "1986 is not a leap year\n"
     ]
    }
   ],
   "source": [
    "check_leap_year(1986)"
   ]
  },
  {
   "cell_type": "code",
   "execution_count": 30,
   "metadata": {},
   "outputs": [
    {
     "name": "stdout",
     "output_type": "stream",
     "text": [
      "1988 is a leap year\n"
     ]
    }
   ],
   "source": [
    "check_leap_year(1988)"
   ]
  },
  {
   "cell_type": "code",
   "execution_count": 31,
   "metadata": {},
   "outputs": [
    {
     "name": "stdout",
     "output_type": "stream",
     "text": [
      "1984 is a leap year\n"
     ]
    }
   ],
   "source": [
    "check_leap_year(1984)"
   ]
  },
  {
   "cell_type": "markdown",
   "metadata": {},
   "source": [
    "# Bài 009. Kiểm tra ngày hợp lệ\n",
    "Viết chương trình kiểm tra ngày (gồm 3 thành phần là ngày, tháng, năm) cho trước có phải là một ngày hợp lệ.\n",
    "\n",
    "Định nghĩa ngày hợp lệ:\n",
    "\n",
    "Một ngày được gọi là hợp lệ (có thật) khi:\n",
    "- Năm là số dương (lớn hơn 0).\n",
    "- Tháng từ 1 đến 12.\n",
    "- Ngày từ 1 đến số ngày tối đa của tháng đó.\n",
    "\n",
    "\n"
   ]
  },
  {
   "cell_type": "code",
   "execution_count": 17,
   "metadata": {},
   "outputs": [],
   "source": [
    "\n",
    "def is_leap_year(year):\n",
    "    if (0 == year % 4 and 0 != year % 100) or (0 == year % 400):\n",
    "        return True\n",
    "    else:\n",
    "        return False\n",
    "    \n",
    "def is_positive_number(number):\n",
    "    try:\n",
    "        if int(number) > 0:\n",
    "            return True\n",
    "        else:\n",
    "            return False\n",
    "    except TypeError:\n",
    "        raise ValueError(\"Không đúng định dạng số nguyên dương\")\n",
    "    \n",
    "\n",
    "def is_valid_month(month):\n",
    "    if 0 < month < 13:\n",
    "        return True\n",
    "    else:\n",
    "        return False\n",
    "        \n",
    "def get_day_of_month(year, month):\n",
    "    if month in [1, 3, 5, 7, 8, 10, 12]:\n",
    "        return 31\n",
    "    elif month in [4, 6, 9, 10, 11]:\n",
    "        return 30\n",
    "    if is_leap_year(year):\n",
    "        return 29\n",
    "    else:\n",
    "        return 28\n",
    "    \n",
    "def is_valid_day(year, month, day):\n",
    "    day_of_month = get_day_of_month(year, month)\n",
    "    if day <= day_of_month:\n",
    "        return True\n",
    "    else:\n",
    "        return False\n",
    "    \n",
    "def input_value():\n",
    "    year = input(\"input year, please: \")\n",
    "    if not is_positive_number(year):\n",
    "        raise ValueError(\"Không đúng định dạng số nguyên dương\")\n",
    "\n",
    "    month = input(\"input month, please: \")\n",
    "    if not is_positive_number(month):\n",
    "        raise ValueError(\"Không đúng định dạng số nguyên dương\")\n",
    "    day = input(\"input day, please: \")\n",
    "    if not is_positive_number(day):\n",
    "        raise ValueError(\"Không đúng định dạng số nguyên dương\")\n",
    "    return int(year), int(month), int(day)\n",
    "\n",
    "def check_valid_date():\n",
    "    year, month, day = input_value()\n",
    "    if is_valid_month(month) and is_valid_day(year, month, day):\n",
    "        print(\"Ngày {} tháng {} năm {} hợp lệ\".format(day, month, year))\n",
    "    else:\n",
    "        print(\"Ngày {} tháng {} năm {} không hợp lệ\".format(day, month, year))\n",
    "\n",
    "        \n",
    "    \n"
   ]
  },
  {
   "cell_type": "code",
   "execution_count": 18,
   "metadata": {},
   "outputs": [
    {
     "name": "stdout",
     "output_type": "stream",
     "text": [
      "input year, please: 2018\n",
      "input month, please: 04\n",
      "input day, please: 02\n",
      "Ngày 2 tháng 4 năm 2018 hợp lệ\n"
     ]
    }
   ],
   "source": [
    "check_valid_date()"
   ]
  },
  {
   "cell_type": "code",
   "execution_count": 19,
   "metadata": {},
   "outputs": [
    {
     "name": "stdout",
     "output_type": "stream",
     "text": [
      "input year, please: 2016\n",
      "input month, please: 02\n",
      "input day, please: 30\n",
      "Ngày 30 tháng 2 năm 2016 không hợp lệ\n"
     ]
    }
   ],
   "source": [
    "check_valid_date()"
   ]
  },
  {
   "cell_type": "code",
   "execution_count": 20,
   "metadata": {},
   "outputs": [
    {
     "name": "stdout",
     "output_type": "stream",
     "text": [
      "input year, please: 2001\n",
      "input month, please: 03\n",
      "input day, please: 30\n",
      "Ngày 30 tháng 3 năm 2001 hợp lệ\n"
     ]
    }
   ],
   "source": [
    "check_valid_date()"
   ]
  },
  {
   "cell_type": "code",
   "execution_count": null,
   "metadata": {},
   "outputs": [],
   "source": []
  }
 ],
 "metadata": {
  "kernelspec": {
   "display_name": "Python 3",
   "language": "python",
   "name": "python3"
  },
  "language_info": {
   "codemirror_mode": {
    "name": "ipython",
    "version": 3
   },
   "file_extension": ".py",
   "mimetype": "text/x-python",
   "name": "python",
   "nbconvert_exporter": "python",
   "pygments_lexer": "ipython3",
   "version": "3.7.0"
  }
 },
 "nbformat": 4,
 "nbformat_minor": 2
}
