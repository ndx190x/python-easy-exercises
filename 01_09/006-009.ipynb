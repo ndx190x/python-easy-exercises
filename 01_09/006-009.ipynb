{
 "cells": [
  {
   "cell_type": "markdown",
   "metadata": {},
   "source": [
    "# Bài 006. Factorial of Number\n",
    "\n",
    "Cho số n, tính giai thừa của số nguyên dương n.\n",
    "\n",
    "Ví dụ:\n",
    "\n",
    "Input:                 5\n",
    "\n",
    "Output:             5! = 120\n"
   ]
  },
  {
   "cell_type": "markdown",
   "metadata": {},
   "source": [
    "**Định nghĩa**\n",
    "Trong toán học, giai thừa là một toán tử một ngôi trên tập hợp các số tự nhiên. Cho n là một số tự nhiên dương, \"n giai thừa\", kí hiệu n! là tích của n số tự nhiên dương đầu tiên.\n",
    "\n",
    "\n",
    "n! = n x (n - 1) x (n-2) .... 4 x 3 x 2 x 1\n",
    "\n",
    "\n",
    "Đặc biệt, với n = 0, người ta quy ước 0! = 1.\n",
    "\n",
    "Ví dụ: 5! = 5 * 4 * 3 * 2 * 1 = 120\n",
    "\n"
   ]
  },
  {
   "cell_type": "code",
   "execution_count": 4,
   "metadata": {},
   "outputs": [],
   "source": [
    "def find_factorial_by_loop(number):\n",
    "    if number == 0 or number == 1:\n",
    "        return 1\n",
    "    factoria_number = 1\n",
    "    for index in range(number,1,-1):\n",
    "        factoria_number *= index\n",
    "    return factoria_number\n"
   ]
  },
  {
   "cell_type": "code",
   "execution_count": 5,
   "metadata": {},
   "outputs": [
    {
     "data": {
      "text/plain": [
       "120"
      ]
     },
     "execution_count": 5,
     "metadata": {},
     "output_type": "execute_result"
    }
   ],
   "source": [
    "find_factorial_by_loop(5)"
   ]
  },
  {
   "cell_type": "code",
   "execution_count": 7,
   "metadata": {},
   "outputs": [
    {
     "data": {
      "text/plain": [
       "24"
      ]
     },
     "execution_count": 7,
     "metadata": {},
     "output_type": "execute_result"
    }
   ],
   "source": [
    "find_factorial_by_loop(4)"
   ]
  },
  {
   "cell_type": "code",
   "execution_count": 6,
   "metadata": {},
   "outputs": [],
   "source": [
    "def find_factorial_by_recusion(number):\n",
    "    if number == 0 or number == 1:\n",
    "        return 1\n",
    "    else:\n",
    "        return number * find_factorial_by_recusion(number - 1)"
   ]
  },
  {
   "cell_type": "code",
   "execution_count": 8,
   "metadata": {},
   "outputs": [
    {
     "data": {
      "text/plain": [
       "120"
      ]
     },
     "execution_count": 8,
     "metadata": {},
     "output_type": "execute_result"
    }
   ],
   "source": [
    "find_factorial_by_recusion(5)"
   ]
  },
  {
   "cell_type": "code",
   "execution_count": 9,
   "metadata": {},
   "outputs": [
    {
     "data": {
      "text/plain": [
       "24"
      ]
     },
     "execution_count": 9,
     "metadata": {},
     "output_type": "execute_result"
    }
   ],
   "source": [
    "find_factorial_by_recusion(4)"
   ]
  },
  {
   "cell_type": "code",
   "execution_count": null,
   "metadata": {},
   "outputs": [],
   "source": []
  },
  {
   "cell_type": "markdown",
   "metadata": {},
   "source": [
    "# Bài 007. Kiểm tra số tự mãn (Narcissistic Number)\n",
    "\n",
    "Cho số nguyên dương n, kiểm tra n có là số tự mãn (Narcissistic Number) không.\n",
    "\n",
    "**Ví dụ:**\n",
    "\n",
    "Input:                                153\n",
    "\n",
    "Output:            153 là số tự mãn\n",
    "\n",
    "**Định nghĩa:**\n",
    "\n",
    "Số tự mãn (Narcissistic Number) là một số mà có tổng của từng chữ số mũ n (n >= 2) bằng chính nó.\n",
    "\n",
    "Ví dụ:\n",
    "\n",
    "Số tự mãn 3 chữ số: 153 = (1 * 1 * 1) + (5 * 5 * 5) + (3 * 3 * 3).\n",
    "\n",
    "Số tự mãn 4 chữ số: 8208 = (8 * 8 * 8 * 8) + (2 * 2 * 2 * 2) + (0 * 0 * 0 * 0) + (8 * 8 * 8 * 8)\n",
    "\n"
   ]
  },
  {
   "cell_type": "code",
   "execution_count": 12,
   "metadata": {},
   "outputs": [],
   "source": [
    "def count_number(number):\n",
    "    count = 0\n",
    "    while number != 0:\n",
    "        count += 1\n",
    "        number = number // 10\n",
    "    return count\n",
    "\n",
    "def find_sum_of_power(number):\n",
    "    count = count_number(number)\n",
    "    total = 0\n",
    "    while number != 0:\n",
    "        sub_number = number % 10\n",
    "        number = number // 10\n",
    "        total += sub_number ** count\n",
    "    return total\n",
    "\n",
    "def is_narcissistic_number(number):\n",
    "    if number == find_sum_of_power(number):\n",
    "        print(\"{} is a narcissistic number\".format(number))\n",
    "    else:\n",
    "        print(\"{} is not a narcissistic number\".format(number))\n",
    "        "
   ]
  },
  {
   "cell_type": "code",
   "execution_count": 13,
   "metadata": {},
   "outputs": [
    {
     "name": "stdout",
     "output_type": "stream",
     "text": [
      "153 is a narcissistic number\n"
     ]
    }
   ],
   "source": [
    "is_narcissistic_number(153)"
   ]
  },
  {
   "cell_type": "code",
   "execution_count": 14,
   "metadata": {},
   "outputs": [
    {
     "name": "stdout",
     "output_type": "stream",
     "text": [
      "8208 is a narcissistic number\n"
     ]
    }
   ],
   "source": [
    "is_narcissistic_number(8208)"
   ]
  },
  {
   "cell_type": "code",
   "execution_count": 15,
   "metadata": {},
   "outputs": [
    {
     "name": "stdout",
     "output_type": "stream",
     "text": [
      "152 is not a narcissistic number\n"
     ]
    }
   ],
   "source": [
    "is_narcissistic_number(152)"
   ]
  },
  {
   "cell_type": "code",
   "execution_count": 16,
   "metadata": {},
   "outputs": [
    {
     "name": "stdout",
     "output_type": "stream",
     "text": [
      "2000 is not a narcissistic number\n"
     ]
    }
   ],
   "source": [
    "is_narcissistic_number(2000)"
   ]
  },
  {
   "cell_type": "markdown",
   "metadata": {},
   "source": []
  }
 ],
 "metadata": {
  "kernelspec": {
   "display_name": "Python 3",
   "language": "python",
   "name": "python3"
  },
  "language_info": {
   "codemirror_mode": {
    "name": "ipython",
    "version": 3
   },
   "file_extension": ".py",
   "mimetype": "text/x-python",
   "name": "python",
   "nbconvert_exporter": "python",
   "pygments_lexer": "ipython3",
   "version": "3.7.0"
  }
 },
 "nbformat": 4,
 "nbformat_minor": 2
}
