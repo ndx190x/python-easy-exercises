{
 "cells": [
  {
   "cell_type": "markdown",
   "metadata": {},
   "source": [
    "# Bài 004\n",
    "\n",
    "Cho số n, xác định xem n có phải là số đối xứng hay không.\n",
    "\n",
    "**Ví dụ:**               \n",
    "\n",
    "Input:               12321\n",
    "\n",
    "Output:           YES"
   ]
  },
  {
   "cell_type": "markdown",
   "metadata": {},
   "source": [
    "**Ghi chú:** Bài toán này có nhiều cách giải. Với Python, cách nhanh nhất và tiện nhất là convert số sang chuỗi và đảo ngược chuỗi lại rồi so sánh 2 chuỗi --> ra kết quả luôn.\n",
    "\n",
    "Bản chất của bài toán này lại không thử thách developer về cách sử dụng lib có sẵn mà tư duy để giải quyết vấn đề từ basic (từ chỗ không có công cụ).\n",
    "\n",
    "Hướng giải quyết của bài toán là tạo ra một số mới là đảo ngược của số đã cho bằng cách lấy từng phần tử cuối và đưa lên đầu.\n"
   ]
  },
  {
   "cell_type": "code",
   "execution_count": 7,
   "metadata": {},
   "outputs": [],
   "source": [
    "def is_reverse_number(number):\n",
    "    if - 1 < number < 10:\n",
    "        return True\n",
    "    reversed_number = reverse_number(number)\n",
    "    return number == reversed_number\n",
    "        \n",
    "def reverse_number(number):\n",
    "    reversed_number = 0\n",
    "    while number != 0:\n",
    "        last = number % 10\n",
    "        reversed_number = reversed_number * 10 + last\n",
    "        number = number // 10\n",
    "    return reversed_number\n"
   ]
  },
  {
   "cell_type": "code",
   "execution_count": 10,
   "metadata": {},
   "outputs": [
    {
     "data": {
      "text/plain": [
       "True"
      ]
     },
     "execution_count": 10,
     "metadata": {},
     "output_type": "execute_result"
    }
   ],
   "source": [
    "is_reverse_number(11233211)"
   ]
  },
  {
   "cell_type": "code",
   "execution_count": 6,
   "metadata": {},
   "outputs": [
    {
     "data": {
      "text/plain": [
       "201"
      ]
     },
     "execution_count": 6,
     "metadata": {},
     "output_type": "execute_result"
    }
   ],
   "source": [
    "reverse_number(102)"
   ]
  },
  {
   "cell_type": "code",
   "execution_count": null,
   "metadata": {},
   "outputs": [],
   "source": []
  }
 ],
 "metadata": {
  "kernelspec": {
   "display_name": "Python 3",
   "language": "python",
   "name": "python3"
  },
  "language_info": {
   "codemirror_mode": {
    "name": "ipython",
    "version": 3
   },
   "file_extension": ".py",
   "mimetype": "text/x-python",
   "name": "python",
   "nbconvert_exporter": "python",
   "pygments_lexer": "ipython3",
   "version": "3.7.0"
  }
 },
 "nbformat": 4,
 "nbformat_minor": 2
}
