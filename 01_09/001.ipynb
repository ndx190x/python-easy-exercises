{
 "cells": [
  {
   "cell_type": "markdown",
   "metadata": {},
   "source": [
    "001. Viết chương trình tính tuổi cho một người. \n",
    "\n",
    "Người dùng sẽ nhập vào năm sinh và chương trình xuất ra số tuổi tương ứng đến thời điểm hiện tại (2019).\n"
   ]
  },
  {
   "cell_type": "code",
   "execution_count": 3,
   "metadata": {},
   "outputs": [],
   "source": [
    "from datetime import datetime\n",
    "\n",
    "def calc_year_old(year_born):\n",
    "    current_year = datetime.now().year\n",
    "    return current_year - year_born\n",
    "\n",
    "def input_year():\n",
    "    year_born = int(input(\"nhập vào năm sinh: \"))\n",
    "    year_old = calc_year_old(year_born)\n",
    "    if year_old < 0:\n",
    "        print(\"Hiện tại là năm {}, vui lòng nhập năm nhỏ hơn năm hiện tại\".format(datetime.now().year))\n",
    "    else:\n",
    "        print(\"Tuổi của người dùng hiện tại là:\", year_old)\n",
    "\n",
    "\n",
    "\n"
   ]
  },
  {
   "cell_type": "code",
   "execution_count": 4,
   "metadata": {},
   "outputs": [
    {
     "name": "stdout",
     "output_type": "stream",
     "text": [
      "nhập vào năm sinh: 2013\n",
      "Tuổi của người dùng hiện tại là: 6\n"
     ]
    }
   ],
   "source": [
    "input_year()"
   ]
  },
  {
   "cell_type": "code",
   "execution_count": 5,
   "metadata": {},
   "outputs": [
    {
     "name": "stdout",
     "output_type": "stream",
     "text": [
      "nhập vào năm sinh: 2020\n",
      "Hiện tại là năm 2019, vui lòng nhập năm nhỏ hơn năm hiện tại\n"
     ]
    }
   ],
   "source": [
    "input_year()"
   ]
  },
  {
   "cell_type": "code",
   "execution_count": null,
   "metadata": {},
   "outputs": [],
   "source": []
  }
 ],
 "metadata": {
  "kernelspec": {
   "display_name": "Python 3",
   "language": "python",
   "name": "python3"
  },
  "language_info": {
   "codemirror_mode": {
    "name": "ipython",
    "version": 3
   },
   "file_extension": ".py",
   "mimetype": "text/x-python",
   "name": "python",
   "nbconvert_exporter": "python",
   "pygments_lexer": "ipython3",
   "version": "3.7.0"
  }
 },
 "nbformat": 4,
 "nbformat_minor": 2
}
